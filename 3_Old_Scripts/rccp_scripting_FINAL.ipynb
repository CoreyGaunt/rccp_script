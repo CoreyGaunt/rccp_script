{
 "cells": [
  {
   "cell_type": "code",
   "execution_count": 1,
   "metadata": {},
   "outputs": [],
   "source": [
    "import pandas as pd\n",
    "import numpy as np\n",
    "import os\n",
    "import csv\n",
    "from itertools import chain\n",
    "import shutil"
   ]
  },
  {
   "cell_type": "code",
   "execution_count": 2,
   "metadata": {},
   "outputs": [],
   "source": [
    "# This code reads in your file, creates a dataframe, and removes all rows with missing data\n",
    "# IMPORTANT - ensure your csv file does not have any unneccesary blank rows, as this will\n",
    "# cause the data to be deleted\n",
    "\n",
    "file = input('What is the filepath that needs to be processed? ')\n",
    "\n",
    "csv = pd.read_csv(file,encoding=\"ISO-8859-1\")\n",
    "df = pd.DataFrame(csv)\n",
    "df1 = df.dropna()"
   ]
  },
  {
   "cell_type": "code",
   "execution_count": 8,
   "metadata": {},
   "outputs": [],
   "source": [
    "df1['Flat RCCP'] = df1['Flat RCCP'].str.replace(\",\",\", \")\n",
    "df1['Texture RCCP'] = df1['Texture RCCP'].str.replace(\",\",\", \")"
   ]
  },
  {
   "cell_type": "code",
   "execution_count": 3,
   "metadata": {},
   "outputs": [],
   "source": [
    "# return list from series of comma-separated strings\n",
    "# found this bit of code online, essentially what this will do is create a list of strings\n",
    "# from a given iterable - i.e. array, list, etc. and will split it on the character \",\"\n",
    "# so when a product has more than one image number for an RCCP, it will be split into\n",
    "# individual columns\n",
    "\n",
    "def chainer(s):\n",
    "    return list(chain.from_iterable(s.str.split(', ')))\n",
    "\n",
    "# calculate lengths of splits\n",
    "lens = df1['Flat RCCP'].str.split(', ').map(len)\n",
    "lens2 = df1['Texture RCCP'].str.split(', ').map(len)"
   ]
  },
  {
   "cell_type": "code",
   "execution_count": 4,
   "metadata": {},
   "outputs": [],
   "source": [
    "# creating two new dataframes that contain rows of each split that was made above\n",
    "# for example, if a product had the flat rccp value '234,235' - the below dataframe\n",
    "# would now have two rows for that product, one for each number in the flat rccp value\n",
    "#\n",
    "# The same is done for the texture rccp values\n",
    "#\n",
    "# With the two dataframes created, I merge them together to generate our final cleaned dataframe\n",
    "# which we will generate all of our new image names from\n",
    "\n",
    "flat = pd.DataFrame({\n",
    "    'Manufacturer':np.repeat(df1['Manufacturer'], lens),\n",
    "    'Series':np.repeat(df1['Series'], lens),\n",
    "    'Color':np.repeat(df1['Color'], lens),\n",
    "    'Flat RCCP':chainer(df1['Flat RCCP'])\n",
    "})\n",
    "\n",
    "text = pd.DataFrame({\n",
    "    'Manufacturer':np.repeat(df1['Manufacturer'], lens2),\n",
    "    'Series':np.repeat(df1['Series'], lens2),\n",
    "    'Color':np.repeat(df1['Color'],lens2),\n",
    "    'Texture RCCP':chainer(df1['Texture RCCP'])\n",
    "})\n",
    "\n",
    "merge_df = pd.merge(flat,text)"
   ]
  },
  {
   "cell_type": "code",
   "execution_count": 5,
   "metadata": {},
   "outputs": [
    {
     "output_type": "execute_result",
     "data": {
      "text/plain": [
       "  Manufacturer                          Series        Color Flat RCCP  \\\n",
       "0   Bedrosians  3-4\" Penny Rounds Gloss Mosaic  Dove Grey         454   \n",
       "1   Bedrosians  3-4\" Penny Rounds Gloss Mosaic  Off White         453   \n",
       "2   Bedrosians  3-4\" Penny Rounds Gloss Mosaic     White          452   \n",
       "3   Bedrosians  3-4\" Penny Rounds Matte Mosaic     Beige          451   \n",
       "4   Bedrosians  3-4\" Penny Rounds Matte Mosaic  Charcoal            -   \n",
       "\n",
       "  Texture RCCP  \n",
       "0          213  \n",
       "1          212  \n",
       "2          211  \n",
       "3          210  \n",
       "4            -  "
      ],
      "text/html": "<div>\n<style scoped>\n    .dataframe tbody tr th:only-of-type {\n        vertical-align: middle;\n    }\n\n    .dataframe tbody tr th {\n        vertical-align: top;\n    }\n\n    .dataframe thead th {\n        text-align: right;\n    }\n</style>\n<table border=\"1\" class=\"dataframe\">\n  <thead>\n    <tr style=\"text-align: right;\">\n      <th></th>\n      <th>Manufacturer</th>\n      <th>Series</th>\n      <th>Color</th>\n      <th>Flat RCCP</th>\n      <th>Texture RCCP</th>\n    </tr>\n  </thead>\n  <tbody>\n    <tr>\n      <th>0</th>\n      <td>Bedrosians</td>\n      <td>3-4\" Penny Rounds Gloss Mosaic</td>\n      <td>Dove Grey</td>\n      <td>454</td>\n      <td>213</td>\n    </tr>\n    <tr>\n      <th>1</th>\n      <td>Bedrosians</td>\n      <td>3-4\" Penny Rounds Gloss Mosaic</td>\n      <td>Off White</td>\n      <td>453</td>\n      <td>212</td>\n    </tr>\n    <tr>\n      <th>2</th>\n      <td>Bedrosians</td>\n      <td>3-4\" Penny Rounds Gloss Mosaic</td>\n      <td>White</td>\n      <td>452</td>\n      <td>211</td>\n    </tr>\n    <tr>\n      <th>3</th>\n      <td>Bedrosians</td>\n      <td>3-4\" Penny Rounds Matte Mosaic</td>\n      <td>Beige</td>\n      <td>451</td>\n      <td>210</td>\n    </tr>\n    <tr>\n      <th>4</th>\n      <td>Bedrosians</td>\n      <td>3-4\" Penny Rounds Matte Mosaic</td>\n      <td>Charcoal</td>\n      <td>-</td>\n      <td>-</td>\n    </tr>\n  </tbody>\n</table>\n</div>"
     },
     "metadata": {},
     "execution_count": 5
    }
   ],
   "source": [
    "merge_df.head()"
   ]
  },
  {
   "cell_type": "code",
   "execution_count": 7,
   "metadata": {},
   "outputs": [],
   "source": [
    "# This chunk of code is bulky, but will be used to ensure that there are no errors in the naming of any of the files\n",
    "merge_df['Manufacturer'] = merge_df['Manufacturer'].str.replace('/','-').replace(\"*\",'-').replace('&','-').replace('%','-').replace('!','-').replace(\"'\",\"\")\n",
    "merge_df['Series'] = merge_df['Series'].str.replace('/','-').replace(\"*\",'-').replace('&','-').replace('%','-').replace('!','-').replace(\"'\",\"\")\n",
    "merge_df['Color'] = merge_df['Color'].str.replace('/','-').replace(\"*\",'-').replace('&','-').replace('%','-').replace('!','-').replace(\"'\",\"\")"
   ]
  },
  {
   "cell_type": "code",
   "execution_count": 9,
   "metadata": {},
   "outputs": [],
   "source": [
    "# This block of code is used to iterate through the data Series, and clean it to be ingested\n",
    "# for use with the images. Here we are ensuring that Flat and Texture RCCP row values will\n",
    "# match up with the image names in our folders\n",
    "\n",
    "merge_df['Flat RCCP'] = merge_df['Flat RCCP'].str.strip() + \"_FLT.dng\"\n",
    "merge_df['Texture RCCP'] = merge_df['Texture RCCP'].str.strip().str.replace('Use ','')\n",
    "merge_df['Texture RCCP'] = merge_df['Texture RCCP'] + \"_TXT.dng\""
   ]
  },
  {
   "cell_type": "code",
   "execution_count": 6,
   "metadata": {
    "tags": []
   },
   "outputs": [],
   "source": [
    "# I created this range so that I could iterate through the items below\n",
    "\n",
    "number_of_cell = len(merge_df['Color'])\n",
    "merge_df['product_key'] = merge_df['Series'].str.strip() + merge_df['Color'].str.strip()"
   ]
  },
  {
   "cell_type": "code",
   "execution_count": 7,
   "metadata": {},
   "outputs": [],
   "source": [
    "\n",
    "merge_df['Text_Name'] = merge_df['Manufacturer'].str.strip() + \"_\" + merge_df['Series'].str.strip()"
   ]
  },
  {
   "cell_type": "code",
   "execution_count": 8,
   "metadata": {},
   "outputs": [
    {
     "output_type": "stream",
     "name": "stdout",
     "text": [
      "This number is out of range\nThis number is out of range\n"
     ]
    }
   ],
   "source": [
    "# this block of code is specifically used to handle products who have more than one\n",
    "# photo for their respective RCCP. Essentially, if one product has two ids - we want to\n",
    "# add a unique signifier for the duplicate so that we do not get errors in a file name\n",
    "#\n",
    "# for example - if 'Cool Breeze' has two flat rccps, you can expect there to be two rows with\n",
    "# the color value 'Cool Breeze' - as seen in [cell 4] - but that will be problem when it comes\n",
    "# time to rename the files - if the file name corresponding to 'Cool Breeze' has already been made\n",
    "# the code will break when it trys to rename the second instance of 'Cool Breeze' as the first\n",
    "# already exists.\n",
    "#\n",
    "# This block walks through the color series and checks if any adjacent values are duplicates, if so\n",
    "# please append 'Part1' to the original and 'Part2' to the duplicate\n",
    "\n",
    "for i in range(number_of_cell - 1):\n",
    "    try:\n",
    "        if merge_df['product_key'][i] == merge_df['product_key'][i+1]:\n",
    "            merge_df['Color'][i] = merge_df['Color'][i].strip() + \"_Part1\"\n",
    "            merge_df['Color'][i+1] = merge_df['Color'][i+1].strip() + \"_Part2\"\n",
    "        elif merge_df['product_key'][i] == merge_df['product_key'][i+2]:\n",
    "            merge_df['Color'][i] = merge_df['Color'][i].strip() + \"_Part1\"\n",
    "            merge_df['Color'][i+1] = merge_df['Color'][i+1].strip() + \"_Part2\"\n",
    "            merge_df['Color'][i+2] = merge_df['Color'][i+2].strip() + \"_Part3\"\n",
    "        elif merge_df['product_key'][i] == merge_df['product_key'][i+3]:\n",
    "            merge_df['Color'][i] = merge_df['Color'][i].strip() + \"_Part1\"\n",
    "            merge_df['Color'][i+1] = merge_df['Color'][i+1].strip() + \"_Part2\"\n",
    "            merge_df['Color'][i+2] = merge_df['Color'][i+2].strip() + \"_Part3\"\n",
    "            merge_df['Color'][i+3] = merge_df['Color'][i+3].strip() + \"_Part4\"\n",
    "    except:\n",
    "         print('This number is out of range')"
   ]
  },
  {
   "cell_type": "code",
   "execution_count": 9,
   "metadata": {},
   "outputs": [],
   "source": [
    "merge_df['Flat_Name'] = merge_df['Manufacturer'].str.strip() + \"_\" + merge_df['Series'].str.strip() + merge_df['Color'].str.strip()"
   ]
  },
  {
   "cell_type": "code",
   "execution_count": 14,
   "metadata": {},
   "outputs": [],
   "source": [
    "for i in range(number_of_cell - 1):\n",
    "    if merge_df['Texture RCCP'][i] != merge_df['Texture RCCP'][i+1]:\n",
    "        merge_df['Text_Name'][i] = merge_df['Text_Name'][i].strip() + \"_\" + merge_df['Color'][i].strip()\n"
   ]
  },
  {
   "cell_type": "code",
   "execution_count": 16,
   "metadata": {},
   "outputs": [],
   "source": [
    "for i in range(number_of_cell - 1):  \n",
    "    if merge_df['Flat RCCP'][i] == merge_df['Flat RCCP'][i+1]:\n",
    "        merge_df['Flat_Name'][i] = merge_df['Flat_Name'][i].replace('_Part1','')"
   ]
  },
  {
   "cell_type": "code",
   "execution_count": null,
   "metadata": {},
   "outputs": [],
   "source": [
    "# this block of code is specifically used to handle products who have more than one\n",
    "# photo for their respective RCCP. Essentially, if one product has two ids - we want to\n",
    "# add a unique signifier for the duplicate so that we do not get errors in a file name\n",
    "#\n",
    "# for example - if 'Cool Breeze' has two flat rccps, you can expect there to be two rows with\n",
    "# the color value 'Cool Breeze' - as seen in [cell 4] - but that will be problem when it comes\n",
    "# time to rename the files - if the file name corresponding to 'Cool Breeze' has already been made\n",
    "# the code will break when it trys to rename the second instance of 'Cool Breeze' as the first\n",
    "# already exists.\n",
    "#\n",
    "# This block walks through the color series and checks if any adjacent values are duplicates, if so\n",
    "# please append 'Part1' to the original and 'Part2' to the duplicate\n",
    "\n",
    "# for i in range(number_of_cell - 1):\n",
    "#     if merge_df['Color'][i] == merge_df['Color'][i+1]:\n",
    "#         merge_df['Color'][i] = merge_df['Color'][i].strip() + \"_Part1\"\n",
    "#         merge_df['Color'][i+1] = merge_df['Color'][i+1].strip() + \"_Part2\""
   ]
  },
  {
   "cell_type": "code",
   "execution_count": 17,
   "metadata": {},
   "outputs": [],
   "source": [
    "# this line simply exports the new dataframe to a csv file\n",
    "# I used this in order to inspect my data when given confusing or blank errors\n",
    "\n",
    "merge_df.to_csv(input('What would you like to name your data file? '))"
   ]
  },
  {
   "cell_type": "code",
   "execution_count": null,
   "metadata": {
    "tags": []
   },
   "outputs": [],
   "source": [
    "# This block imports the desired image folder/directory, and prints the folders contents to the terminal\n",
    "# Additionally, the last line creates a range of the number of files in the directory that I will use to iterate\n",
    "# through when renaming the images\n",
    "\n",
    "mydir = input(\"What is the filepath with your images? \")\n",
    "\n",
    "filelist = os.listdir(mydir)\n",
    "for file in filelist[:]: # filelist[:] makes a copy of filelist\n",
    "    print(file)\n",
    "number_of_files = len(filelist)"
   ]
  },
  {
   "cell_type": "code",
   "execution_count": null,
   "metadata": {},
   "outputs": [],
   "source": [
    "copiedDir = input(\"Please enter a directory path to store your source images: \")\n",
    "os.mkdir(copiedDir)"
   ]
  },
  {
   "cell_type": "code",
   "execution_count": null,
   "metadata": {
    "tags": []
   },
   "outputs": [],
   "source": [
    "# IMPORTANT NOTE - all fields must not have the characters \"/\", \"\\\", or \"*\" [NOTE - I'm sure there are more, just haven't found them yet] as it will disrupt the code written below\n",
    "# This is a complex piece of code that I 'frankensteined' together from research online.\n",
    "#\n",
    "# Essentially, it does the following:\n",
    "#\n",
    "# Looks two ranges - the number of values in the color column (I did this is all columns will have the same number of rows - it didn't really matter that I chose color)\n",
    "# and the number of files in the file directory that was referenced.\n",
    "#\n",
    "# Next, I generate the new file names for both the flat and the texture images - I use the root folder (mydir) plus a series of dataframe values to rename the image\n",
    "# These values are the Manufacturer name, series, and color - with the added _FLAT or _TEXTURE suffix depending upon the use, and the .dng to maintain the file\n",
    "# format\n",
    "#\n",
    "# Now I loop through the code - I do a check to see if the name of a given file - matches either the Flat RCCP or Texture RCCP value in the dataframe\n",
    "# if they match, then I use the os.rename function to rename the old file to the new file names I generated above\n",
    "# if they don't, I have it print out a statement saying that no match was found\n",
    "\n",
    "for i in range(number_of_cell):\n",
    "        for n in range(number_of_files):\n",
    "            new_flat_file = mydir + (merge_df['Flat_Name'][i].strip() + \"_FLAT\" + \".dng\")\n",
    "            new_text_file = mydir + (merge_df['Text_Name'][i].strip() + \"_TEXTURE\" + \".dng\")\n",
    "            if  filelist[n] == merge_df['Flat RCCP'][i]:\n",
    "                try:\n",
    "                    shutil.copy(mydir + filelist[n], copiedDir)\n",
    "                    os.rename(mydir + filelist[n], new_flat_file)\n",
    "                    print(f\"flat image {new_flat_file} processed\") \n",
    "                except:\n",
    "                    print('Flat Image Id NOT FOUND - or - Option has TWO pieces')\n",
    "            elif  filelist[n] == merge_df['Texture RCCP'][i]:\n",
    "                try:\n",
    "                    shutil.copy(mydir + filelist[n], copiedDir)\n",
    "                    os.rename(mydir + filelist[n], new_text_file)\n",
    "                    print(f\"texture image {new_text_file} processed\")\n",
    "                except:\n",
    "                    print('Texture Image Id NOT FOUND - or - Option has TWO pieces')\n"
   ]
  }
 ],
 "metadata": {
  "kernelspec": {
   "display_name": "Python 3",
   "language": "python",
   "name": "python3"
  },
  "language_info": {
   "codemirror_mode": {
    "name": "ipython",
    "version": 3
   },
   "file_extension": ".py",
   "mimetype": "text/x-python",
   "name": "python",
   "nbconvert_exporter": "python",
   "pygments_lexer": "ipython3",
   "version": "3.7.6-final"
  }
 },
 "nbformat": 4,
 "nbformat_minor": 4
}