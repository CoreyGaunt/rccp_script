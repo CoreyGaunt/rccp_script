{
 "cells": [
  {
   "cell_type": "code",
   "execution_count": 1,
   "metadata": {},
   "outputs": [],
   "source": [
    "import pandas as pd\n",
    "import numpy as np\n",
    "import os\n",
    "import csv\n",
    "from itertools import chain\n",
    "import xlrd\n",
    "import glob"
   ]
  },
  {
   "cell_type": "code",
   "execution_count": 2,
   "metadata": {},
   "outputs": [],
   "source": [
    "file = \"SheaHomes-ArizonaDivision-Countertops.csv\"\n",
    "\n",
    "csv = pd.read_csv(file,encoding=\"ISO-8859-1\")\n",
    "df = pd.DataFrame(csv)\n",
    "df1 = df.dropna()"
   ]
  },
  {
   "cell_type": "code",
   "execution_count": 3,
   "metadata": {},
   "outputs": [],
   "source": [
    "# return list from series of comma-separated strings\n",
    "def chainer(s):\n",
    "    return list(chain.from_iterable(s.str.split(',')))\n",
    "\n",
    "# calculate lengths of splits\n",
    "lens = df1['Flat RCCP'].str.split(',').map(len)"
   ]
  },
  {
   "cell_type": "code",
   "execution_count": 4,
   "metadata": {},
   "outputs": [],
   "source": [
    "# creating a new dataframe with the flat images separated out of each other\n",
    "\n",
    "flat = pd.DataFrame({\n",
    "    'Manufacturer':np.repeat(df1['Manufacturer'], lens),\n",
    "    'Series':np.repeat(df1['Series'], lens),\n",
    "    'Color':np.repeat(df1['Color'], lens),\n",
    "    'Flat RCCP':chainer(df1['Flat RCCP'])\n",
    "})\n"
   ]
  },
  {
   "cell_type": "code",
   "execution_count": 5,
   "metadata": {},
   "outputs": [],
   "source": [
    "flat['Flat RCCP'] = flat['Flat RCCP'] + \"_FLT.dng\""
   ]
  },
  {
   "cell_type": "code",
   "execution_count": 6,
   "metadata": {},
   "outputs": [
    {
     "output_type": "execute_result",
     "data": {
      "text/plain": "    Manufacturer   Series                       Color  \\\n0   Arizona Tile  Granite                   Andromeda   \n1   Arizona Tile  Granite                Azul Platino   \n2   Arizona Tile  Granite               Bianco Antico   \n3   Arizona Tile  Granite             Bianco Montanha   \n4   Arizona Tile  Granite       Bianco Romano Supreme   \n5   Arizona Tile  Granite             Bianco Typhoon    \n6   Arizona Tile  Granite        Bianco Typhoon Satin   \n7   Arizona Tile  Granite            Black Mist Honed   \n9   Arizona Tile  Granite                    Blizzard   \n10  Arizona Tile  Granite                 Blue Galaxy   \n11  Arizona Tile  Granite                  Blue Pearl   \n12  Arizona Tile  Granite             Butterfly Beige   \n13  Arizona Tile  Granite                 CafÃ© Cream   \n14  Arizona Tile  Granite                 Casa Blanco   \n15  Arizona Tile  Granite              Colonial White   \n16  Arizona Tile  Granite                  Copenhagen   \n17  Arizona Tile  Granite              Crema Bordeaux   \n18  Arizona Tile  Granite                Dallas White   \n19  Arizona Tile  Granite             Delicatus White   \n20  Arizona Tile  Granite                Eagle White    \n21  Arizona Tile  Granite         Fantasy Brown Satin   \n22  Arizona Tile  Granite                Giallo Cream   \n23  Arizona Tile  Granite                Giallo Santo   \n24  Arizona Tile  Granite              Golden Crystal   \n25  Arizona Tile  Granite  Indian Premium Black Honed   \n26  Arizona Tile  Granite        Juparana St. Cecilia   \n27  Arizona Tile  Granite               Kashmir Cream   \n28  Arizona Tile  Granite                Monte Cristo   \n29  Arizona Tile  Granite          Monte Cristo Satin   \n30  Arizona Tile  Granite                  Moon White   \n32  Arizona Tile  Granite              River Bordeaux   \n33  Arizona Tile  Granite                 River White   \n34  Arizona Tile  Granite                 Siena Beige   \n35  Arizona Tile  Granite               Silver Lennon   \n36  Arizona Tile  Granite           St. Cecilia White   \n37  Arizona Tile  Granite     St. Cecilia White Satin   \n38  Arizona Tile  Granite                  Steel Gray   \n39  Arizona Tile  Granite            Typhoon Bordeaux   \n40  Arizona Tile  Granite               Venetian Gold   \n41  Arizona Tile  Granite              Verde Uba Tuba   \n42  Arizona Tile  Granite               Whisper White   \n43  Arizona Tile  Granite                   White Ice   \n44  Arizona Tile  Granite               White Springs   \n45  Arizona Tile  Granite         White Springs Satin   \n46  Arizona Tile   Quartz                Aluminum - N   \n47  Arizona Tile   Quartz                Cashmere - N   \n48  Arizona Tile   Quartz               Concrete Grey   \n49  Arizona Tile   Quartz           Country Clare - N   \n50  Arizona Tile   Quartz                  Denali - N   \n51  Arizona Tile   Quartz                    Dusk - N   \n\n                   Flat RCCP  \n0                253_FLT.dng  \n1                187_FLT.dng  \n2                174_FLT.dng  \n3                188_FLT.dng  \n4                193_FLT.dng  \n5                189_FLT.dng  \n6                192_FLT.dng  \n7                252_FLT.dng  \n9                178_FLT.dng  \n10               181_FLT.dng  \n11               182_FLT.dng  \n12  see priority tab_FLT.dng  \n13               241_FLT.dng  \n14               233_FLT.dng  \n15               239_FLT.dng  \n16               212_FLT.dng  \n17               242_FLT.dng  \n18  see priority tab_FLT.dng  \n19               244_FLT.dng  \n20               243_FLT.dng  \n21               186_FLT.dng  \n22               175_FLT.dng  \n23  see priority tab_FLT.dng  \n24               208_FLT.dng  \n25               197_FLT.dng  \n26  see priority tab_FLT.dng  \n27               190_FLT.dng  \n28               234_FLT.dng  \n29               198_FLT.dng  \n30  see priority tab_FLT.dng  \n32               210_FLT.dng  \n33               238_FLT.dng  \n34               250_FLT.dng  \n35               245_FLT.dng  \n36               249_FLT.dng  \n37               247_FLT.dng  \n38               254_FLT.dng  \n39               206_FLT.dng  \n40               191_FLT.dng  \n41               179_FLT.dng  \n42               240_FLT.dng  \n43               564_FLT.dng  \n44               237_FLT.dng  \n45               246_FLT.dng  \n46               251_FLT.dng  \n47               235_FLT.dng  \n48               248_FLT.dng  \n49               184_FLT.dng  \n50               176_FLT.dng  \n51               205_FLT.dng  ",
      "text/html": "<div>\n<style scoped>\n    .dataframe tbody tr th:only-of-type {\n        vertical-align: middle;\n    }\n\n    .dataframe tbody tr th {\n        vertical-align: top;\n    }\n\n    .dataframe thead th {\n        text-align: right;\n    }\n</style>\n<table border=\"1\" class=\"dataframe\">\n  <thead>\n    <tr style=\"text-align: right;\">\n      <th></th>\n      <th>Manufacturer</th>\n      <th>Series</th>\n      <th>Color</th>\n      <th>Flat RCCP</th>\n    </tr>\n  </thead>\n  <tbody>\n    <tr>\n      <th>0</th>\n      <td>Arizona Tile</td>\n      <td>Granite</td>\n      <td>Andromeda</td>\n      <td>253_FLT.dng</td>\n    </tr>\n    <tr>\n      <th>1</th>\n      <td>Arizona Tile</td>\n      <td>Granite</td>\n      <td>Azul Platino</td>\n      <td>187_FLT.dng</td>\n    </tr>\n    <tr>\n      <th>2</th>\n      <td>Arizona Tile</td>\n      <td>Granite</td>\n      <td>Bianco Antico</td>\n      <td>174_FLT.dng</td>\n    </tr>\n    <tr>\n      <th>3</th>\n      <td>Arizona Tile</td>\n      <td>Granite</td>\n      <td>Bianco Montanha</td>\n      <td>188_FLT.dng</td>\n    </tr>\n    <tr>\n      <th>4</th>\n      <td>Arizona Tile</td>\n      <td>Granite</td>\n      <td>Bianco Romano Supreme</td>\n      <td>193_FLT.dng</td>\n    </tr>\n    <tr>\n      <th>5</th>\n      <td>Arizona Tile</td>\n      <td>Granite</td>\n      <td>Bianco Typhoon</td>\n      <td>189_FLT.dng</td>\n    </tr>\n    <tr>\n      <th>6</th>\n      <td>Arizona Tile</td>\n      <td>Granite</td>\n      <td>Bianco Typhoon Satin</td>\n      <td>192_FLT.dng</td>\n    </tr>\n    <tr>\n      <th>7</th>\n      <td>Arizona Tile</td>\n      <td>Granite</td>\n      <td>Black Mist Honed</td>\n      <td>252_FLT.dng</td>\n    </tr>\n    <tr>\n      <th>9</th>\n      <td>Arizona Tile</td>\n      <td>Granite</td>\n      <td>Blizzard</td>\n      <td>178_FLT.dng</td>\n    </tr>\n    <tr>\n      <th>10</th>\n      <td>Arizona Tile</td>\n      <td>Granite</td>\n      <td>Blue Galaxy</td>\n      <td>181_FLT.dng</td>\n    </tr>\n    <tr>\n      <th>11</th>\n      <td>Arizona Tile</td>\n      <td>Granite</td>\n      <td>Blue Pearl</td>\n      <td>182_FLT.dng</td>\n    </tr>\n    <tr>\n      <th>12</th>\n      <td>Arizona Tile</td>\n      <td>Granite</td>\n      <td>Butterfly Beige</td>\n      <td>see priority tab_FLT.dng</td>\n    </tr>\n    <tr>\n      <th>13</th>\n      <td>Arizona Tile</td>\n      <td>Granite</td>\n      <td>CafÃ© Cream</td>\n      <td>241_FLT.dng</td>\n    </tr>\n    <tr>\n      <th>14</th>\n      <td>Arizona Tile</td>\n      <td>Granite</td>\n      <td>Casa Blanco</td>\n      <td>233_FLT.dng</td>\n    </tr>\n    <tr>\n      <th>15</th>\n      <td>Arizona Tile</td>\n      <td>Granite</td>\n      <td>Colonial White</td>\n      <td>239_FLT.dng</td>\n    </tr>\n    <tr>\n      <th>16</th>\n      <td>Arizona Tile</td>\n      <td>Granite</td>\n      <td>Copenhagen</td>\n      <td>212_FLT.dng</td>\n    </tr>\n    <tr>\n      <th>17</th>\n      <td>Arizona Tile</td>\n      <td>Granite</td>\n      <td>Crema Bordeaux</td>\n      <td>242_FLT.dng</td>\n    </tr>\n    <tr>\n      <th>18</th>\n      <td>Arizona Tile</td>\n      <td>Granite</td>\n      <td>Dallas White</td>\n      <td>see priority tab_FLT.dng</td>\n    </tr>\n    <tr>\n      <th>19</th>\n      <td>Arizona Tile</td>\n      <td>Granite</td>\n      <td>Delicatus White</td>\n      <td>244_FLT.dng</td>\n    </tr>\n    <tr>\n      <th>20</th>\n      <td>Arizona Tile</td>\n      <td>Granite</td>\n      <td>Eagle White</td>\n      <td>243_FLT.dng</td>\n    </tr>\n    <tr>\n      <th>21</th>\n      <td>Arizona Tile</td>\n      <td>Granite</td>\n      <td>Fantasy Brown Satin</td>\n      <td>186_FLT.dng</td>\n    </tr>\n    <tr>\n      <th>22</th>\n      <td>Arizona Tile</td>\n      <td>Granite</td>\n      <td>Giallo Cream</td>\n      <td>175_FLT.dng</td>\n    </tr>\n    <tr>\n      <th>23</th>\n      <td>Arizona Tile</td>\n      <td>Granite</td>\n      <td>Giallo Santo</td>\n      <td>see priority tab_FLT.dng</td>\n    </tr>\n    <tr>\n      <th>24</th>\n      <td>Arizona Tile</td>\n      <td>Granite</td>\n      <td>Golden Crystal</td>\n      <td>208_FLT.dng</td>\n    </tr>\n    <tr>\n      <th>25</th>\n      <td>Arizona Tile</td>\n      <td>Granite</td>\n      <td>Indian Premium Black Honed</td>\n      <td>197_FLT.dng</td>\n    </tr>\n    <tr>\n      <th>26</th>\n      <td>Arizona Tile</td>\n      <td>Granite</td>\n      <td>Juparana St. Cecilia</td>\n      <td>see priority tab_FLT.dng</td>\n    </tr>\n    <tr>\n      <th>27</th>\n      <td>Arizona Tile</td>\n      <td>Granite</td>\n      <td>Kashmir Cream</td>\n      <td>190_FLT.dng</td>\n    </tr>\n    <tr>\n      <th>28</th>\n      <td>Arizona Tile</td>\n      <td>Granite</td>\n      <td>Monte Cristo</td>\n      <td>234_FLT.dng</td>\n    </tr>\n    <tr>\n      <th>29</th>\n      <td>Arizona Tile</td>\n      <td>Granite</td>\n      <td>Monte Cristo Satin</td>\n      <td>198_FLT.dng</td>\n    </tr>\n    <tr>\n      <th>30</th>\n      <td>Arizona Tile</td>\n      <td>Granite</td>\n      <td>Moon White</td>\n      <td>see priority tab_FLT.dng</td>\n    </tr>\n    <tr>\n      <th>32</th>\n      <td>Arizona Tile</td>\n      <td>Granite</td>\n      <td>River Bordeaux</td>\n      <td>210_FLT.dng</td>\n    </tr>\n    <tr>\n      <th>33</th>\n      <td>Arizona Tile</td>\n      <td>Granite</td>\n      <td>River White</td>\n      <td>238_FLT.dng</td>\n    </tr>\n    <tr>\n      <th>34</th>\n      <td>Arizona Tile</td>\n      <td>Granite</td>\n      <td>Siena Beige</td>\n      <td>250_FLT.dng</td>\n    </tr>\n    <tr>\n      <th>35</th>\n      <td>Arizona Tile</td>\n      <td>Granite</td>\n      <td>Silver Lennon</td>\n      <td>245_FLT.dng</td>\n    </tr>\n    <tr>\n      <th>36</th>\n      <td>Arizona Tile</td>\n      <td>Granite</td>\n      <td>St. Cecilia White</td>\n      <td>249_FLT.dng</td>\n    </tr>\n    <tr>\n      <th>37</th>\n      <td>Arizona Tile</td>\n      <td>Granite</td>\n      <td>St. Cecilia White Satin</td>\n      <td>247_FLT.dng</td>\n    </tr>\n    <tr>\n      <th>38</th>\n      <td>Arizona Tile</td>\n      <td>Granite</td>\n      <td>Steel Gray</td>\n      <td>254_FLT.dng</td>\n    </tr>\n    <tr>\n      <th>39</th>\n      <td>Arizona Tile</td>\n      <td>Granite</td>\n      <td>Typhoon Bordeaux</td>\n      <td>206_FLT.dng</td>\n    </tr>\n    <tr>\n      <th>40</th>\n      <td>Arizona Tile</td>\n      <td>Granite</td>\n      <td>Venetian Gold</td>\n      <td>191_FLT.dng</td>\n    </tr>\n    <tr>\n      <th>41</th>\n      <td>Arizona Tile</td>\n      <td>Granite</td>\n      <td>Verde Uba Tuba</td>\n      <td>179_FLT.dng</td>\n    </tr>\n    <tr>\n      <th>42</th>\n      <td>Arizona Tile</td>\n      <td>Granite</td>\n      <td>Whisper White</td>\n      <td>240_FLT.dng</td>\n    </tr>\n    <tr>\n      <th>43</th>\n      <td>Arizona Tile</td>\n      <td>Granite</td>\n      <td>White Ice</td>\n      <td>564_FLT.dng</td>\n    </tr>\n    <tr>\n      <th>44</th>\n      <td>Arizona Tile</td>\n      <td>Granite</td>\n      <td>White Springs</td>\n      <td>237_FLT.dng</td>\n    </tr>\n    <tr>\n      <th>45</th>\n      <td>Arizona Tile</td>\n      <td>Granite</td>\n      <td>White Springs Satin</td>\n      <td>246_FLT.dng</td>\n    </tr>\n    <tr>\n      <th>46</th>\n      <td>Arizona Tile</td>\n      <td>Quartz</td>\n      <td>Aluminum - N</td>\n      <td>251_FLT.dng</td>\n    </tr>\n    <tr>\n      <th>47</th>\n      <td>Arizona Tile</td>\n      <td>Quartz</td>\n      <td>Cashmere - N</td>\n      <td>235_FLT.dng</td>\n    </tr>\n    <tr>\n      <th>48</th>\n      <td>Arizona Tile</td>\n      <td>Quartz</td>\n      <td>Concrete Grey</td>\n      <td>248_FLT.dng</td>\n    </tr>\n    <tr>\n      <th>49</th>\n      <td>Arizona Tile</td>\n      <td>Quartz</td>\n      <td>Country Clare - N</td>\n      <td>184_FLT.dng</td>\n    </tr>\n    <tr>\n      <th>50</th>\n      <td>Arizona Tile</td>\n      <td>Quartz</td>\n      <td>Denali - N</td>\n      <td>176_FLT.dng</td>\n    </tr>\n    <tr>\n      <th>51</th>\n      <td>Arizona Tile</td>\n      <td>Quartz</td>\n      <td>Dusk - N</td>\n      <td>205_FLT.dng</td>\n    </tr>\n  </tbody>\n</table>\n</div>"
     },
     "metadata": {},
     "execution_count": 6
    }
   ],
   "source": [
    "flat.head(50)"
   ]
  },
  {
   "cell_type": "code",
   "execution_count": 7,
   "metadata": {
    "tags": []
   },
   "outputs": [],
   "source": [
    "# calculate lengths of splits\n",
    "lens2 = df1['Texture RCCP'].str.split(',').map(len)\n",
    "# creating a new dataframe with the texture images separated out of each other\n",
    "\n",
    "texture = pd.DataFrame({\n",
    "    'Manufacturer':np.repeat(df1['Manufacturer'], lens2),\n",
    "    'Series':np.repeat(df1['Series'], lens2),\n",
    "    'Color':np.repeat(df1['Color'], lens2),\n",
    "    'Texture RCCP':chainer(df1['Texture RCCP'])\n",
    "})"
   ]
  },
  {
   "cell_type": "code",
   "execution_count": 8,
   "metadata": {},
   "outputs": [],
   "source": [
    "texture['Texture RCCP'] = texture['Texture RCCP'].str.replace('Use ','')"
   ]
  },
  {
   "cell_type": "code",
   "execution_count": 9,
   "metadata": {},
   "outputs": [],
   "source": [
    "texture['Texture RCCP'] = texture['Texture RCCP'] + \"_TXT.dng\""
   ]
  },
  {
   "cell_type": "code",
   "execution_count": 10,
   "metadata": {},
   "outputs": [
    {
     "output_type": "execute_result",
     "data": {
      "text/plain": "    Manufacturer   Series                  Color Texture RCCP\n0   Arizona Tile  Granite              Andromeda   94_TXT.dng\n1   Arizona Tile  Granite           Azul Platino   49_TXT.dng\n2   Arizona Tile  Granite          Bianco Antico   37_TXT.dng\n3   Arizona Tile  Granite        Bianco Montanha   50_TXT.dng\n4   Arizona Tile  Granite  Bianco Romano Supreme   55_TXT.dng\n..           ...      ...                    ...          ...\n64  Arizona Tile   Quartz              Steel - N   56_TXT.dng\n65  Arizona Tile   Quartz                 Troya    65_TXT.dng\n66  Arizona Tile   Quartz              Vegas - N   40_TXT.dng\n67  Arizona Tile   Quartz         Vittoria White   62_TXT.dng\n68  Arizona Tile   Quartz         White Sand - N   72_TXT.dng\n\n[65 rows x 4 columns]",
      "text/html": "<div>\n<style scoped>\n    .dataframe tbody tr th:only-of-type {\n        vertical-align: middle;\n    }\n\n    .dataframe tbody tr th {\n        vertical-align: top;\n    }\n\n    .dataframe thead th {\n        text-align: right;\n    }\n</style>\n<table border=\"1\" class=\"dataframe\">\n  <thead>\n    <tr style=\"text-align: right;\">\n      <th></th>\n      <th>Manufacturer</th>\n      <th>Series</th>\n      <th>Color</th>\n      <th>Texture RCCP</th>\n    </tr>\n  </thead>\n  <tbody>\n    <tr>\n      <th>0</th>\n      <td>Arizona Tile</td>\n      <td>Granite</td>\n      <td>Andromeda</td>\n      <td>94_TXT.dng</td>\n    </tr>\n    <tr>\n      <th>1</th>\n      <td>Arizona Tile</td>\n      <td>Granite</td>\n      <td>Azul Platino</td>\n      <td>49_TXT.dng</td>\n    </tr>\n    <tr>\n      <th>2</th>\n      <td>Arizona Tile</td>\n      <td>Granite</td>\n      <td>Bianco Antico</td>\n      <td>37_TXT.dng</td>\n    </tr>\n    <tr>\n      <th>3</th>\n      <td>Arizona Tile</td>\n      <td>Granite</td>\n      <td>Bianco Montanha</td>\n      <td>50_TXT.dng</td>\n    </tr>\n    <tr>\n      <th>4</th>\n      <td>Arizona Tile</td>\n      <td>Granite</td>\n      <td>Bianco Romano Supreme</td>\n      <td>55_TXT.dng</td>\n    </tr>\n    <tr>\n      <th>...</th>\n      <td>...</td>\n      <td>...</td>\n      <td>...</td>\n      <td>...</td>\n    </tr>\n    <tr>\n      <th>64</th>\n      <td>Arizona Tile</td>\n      <td>Quartz</td>\n      <td>Steel - N</td>\n      <td>56_TXT.dng</td>\n    </tr>\n    <tr>\n      <th>65</th>\n      <td>Arizona Tile</td>\n      <td>Quartz</td>\n      <td>Troya</td>\n      <td>65_TXT.dng</td>\n    </tr>\n    <tr>\n      <th>66</th>\n      <td>Arizona Tile</td>\n      <td>Quartz</td>\n      <td>Vegas - N</td>\n      <td>40_TXT.dng</td>\n    </tr>\n    <tr>\n      <th>67</th>\n      <td>Arizona Tile</td>\n      <td>Quartz</td>\n      <td>Vittoria White</td>\n      <td>62_TXT.dng</td>\n    </tr>\n    <tr>\n      <th>68</th>\n      <td>Arizona Tile</td>\n      <td>Quartz</td>\n      <td>White Sand - N</td>\n      <td>72_TXT.dng</td>\n    </tr>\n  </tbody>\n</table>\n<p>65 rows × 4 columns</p>\n</div>"
     },
     "metadata": {},
     "execution_count": 10
    }
   ],
   "source": [
    "texture"
   ]
  },
  {
   "cell_type": "code",
   "execution_count": 11,
   "metadata": {},
   "outputs": [],
   "source": [
    "merged = pd.merge(flat,texture,on='Color', how='inner')"
   ]
  },
  {
   "cell_type": "code",
   "execution_count": 12,
   "metadata": {},
   "outputs": [],
   "source": [
    "merged2 = merged[['Manufacturer_x','Series_x','Color','Flat RCCP','Texture RCCP']]\n",
    "clean_merge = merged2.rename(columns={'Manufacturer_x':'Manufacturer',\n",
    "                       'Series_x':'Series'\n",
    "                       })"
   ]
  },
  {
   "cell_type": "code",
   "execution_count": 13,
   "metadata": {},
   "outputs": [
    {
     "output_type": "execute_result",
     "data": {
      "text/plain": "   Manufacturer   Series                  Color    Flat RCCP Texture RCCP\n0  Arizona Tile  Granite              Andromeda  253_FLT.dng   94_TXT.dng\n1  Arizona Tile  Granite           Azul Platino  187_FLT.dng   49_TXT.dng\n2  Arizona Tile  Granite          Bianco Antico  174_FLT.dng   37_TXT.dng\n3  Arizona Tile  Granite        Bianco Montanha  188_FLT.dng   50_TXT.dng\n4  Arizona Tile  Granite  Bianco Romano Supreme  193_FLT.dng   55_TXT.dng\n5  Arizona Tile  Granite        Bianco Typhoon   189_FLT.dng   51_TXT.dng\n6  Arizona Tile  Granite   Bianco Typhoon Satin  192_FLT.dng   54_TXT.dng\n7  Arizona Tile  Granite       Black Mist Honed  252_FLT.dng   93_TXT.dng\n8  Arizona Tile  Granite               Blizzard  178_FLT.dng   41_TXT.dng\n9  Arizona Tile  Granite            Blue Galaxy  181_FLT.dng   43_TXT.dng",
      "text/html": "<div>\n<style scoped>\n    .dataframe tbody tr th:only-of-type {\n        vertical-align: middle;\n    }\n\n    .dataframe tbody tr th {\n        vertical-align: top;\n    }\n\n    .dataframe thead th {\n        text-align: right;\n    }\n</style>\n<table border=\"1\" class=\"dataframe\">\n  <thead>\n    <tr style=\"text-align: right;\">\n      <th></th>\n      <th>Manufacturer</th>\n      <th>Series</th>\n      <th>Color</th>\n      <th>Flat RCCP</th>\n      <th>Texture RCCP</th>\n    </tr>\n  </thead>\n  <tbody>\n    <tr>\n      <th>0</th>\n      <td>Arizona Tile</td>\n      <td>Granite</td>\n      <td>Andromeda</td>\n      <td>253_FLT.dng</td>\n      <td>94_TXT.dng</td>\n    </tr>\n    <tr>\n      <th>1</th>\n      <td>Arizona Tile</td>\n      <td>Granite</td>\n      <td>Azul Platino</td>\n      <td>187_FLT.dng</td>\n      <td>49_TXT.dng</td>\n    </tr>\n    <tr>\n      <th>2</th>\n      <td>Arizona Tile</td>\n      <td>Granite</td>\n      <td>Bianco Antico</td>\n      <td>174_FLT.dng</td>\n      <td>37_TXT.dng</td>\n    </tr>\n    <tr>\n      <th>3</th>\n      <td>Arizona Tile</td>\n      <td>Granite</td>\n      <td>Bianco Montanha</td>\n      <td>188_FLT.dng</td>\n      <td>50_TXT.dng</td>\n    </tr>\n    <tr>\n      <th>4</th>\n      <td>Arizona Tile</td>\n      <td>Granite</td>\n      <td>Bianco Romano Supreme</td>\n      <td>193_FLT.dng</td>\n      <td>55_TXT.dng</td>\n    </tr>\n    <tr>\n      <th>5</th>\n      <td>Arizona Tile</td>\n      <td>Granite</td>\n      <td>Bianco Typhoon</td>\n      <td>189_FLT.dng</td>\n      <td>51_TXT.dng</td>\n    </tr>\n    <tr>\n      <th>6</th>\n      <td>Arizona Tile</td>\n      <td>Granite</td>\n      <td>Bianco Typhoon Satin</td>\n      <td>192_FLT.dng</td>\n      <td>54_TXT.dng</td>\n    </tr>\n    <tr>\n      <th>7</th>\n      <td>Arizona Tile</td>\n      <td>Granite</td>\n      <td>Black Mist Honed</td>\n      <td>252_FLT.dng</td>\n      <td>93_TXT.dng</td>\n    </tr>\n    <tr>\n      <th>8</th>\n      <td>Arizona Tile</td>\n      <td>Granite</td>\n      <td>Blizzard</td>\n      <td>178_FLT.dng</td>\n      <td>41_TXT.dng</td>\n    </tr>\n    <tr>\n      <th>9</th>\n      <td>Arizona Tile</td>\n      <td>Granite</td>\n      <td>Blue Galaxy</td>\n      <td>181_FLT.dng</td>\n      <td>43_TXT.dng</td>\n    </tr>\n  </tbody>\n</table>\n</div>"
     },
     "metadata": {},
     "execution_count": 13
    }
   ],
   "source": [
    "clean_merge.head(10)"
   ]
  },
  {
   "cell_type": "code",
   "execution_count": 14,
   "metadata": {
    "tags": []
   },
   "outputs": [],
   "source": [
    "number_of_cell = len(clean_merge['Flat RCCP'])"
   ]
  },
  {
   "cell_type": "code",
   "execution_count": 18,
   "metadata": {
    "tags": []
   },
   "outputs": [
    {
     "output_type": "stream",
     "name": "stdout",
     "text": "174_FLT.dng\n187_FLT.dng\n188_FLT.dng\n193_FLT.dng\n253_FLT.dng\n37_TXT.dng\n49_TXT.dng\n50_TXT.dng\n55_TXT.dng\n94_TXT.dng\n"
    }
   ],
   "source": [
    "mydir = \"Shea_TEST/\"\n",
    "\n",
    "filelist = os.listdir(mydir)\n",
    "for file in filelist[:]: # filelist[:] makes a copy of filelist\n",
    "    print(file)\n",
    "number_of_files = len(filelist)"
   ]
  },
  {
   "cell_type": "code",
   "execution_count": 19,
   "metadata": {},
   "outputs": [
    {
     "output_type": "execute_result",
     "data": {
      "text/plain": "['174_FLT.dng',\n '187_FLT.dng',\n '188_FLT.dng',\n '193_FLT.dng',\n '253_FLT.dng',\n '37_TXT.dng',\n '49_TXT.dng',\n '50_TXT.dng',\n '55_TXT.dng',\n '94_TXT.dng']"
     },
     "metadata": {},
     "execution_count": 19
    }
   ],
   "source": [
    "filelist"
   ]
  },
  {
   "cell_type": "code",
   "execution_count": 16,
   "metadata": {
    "tags": []
   },
   "outputs": [],
   "source": [
    "for i in range(number_of_cell):\n",
    "        for n in range(number_of_files):\n",
    "            if clean_merge['Flat RCCP'][i] == filelist[n]:\n",
    "                os.rename(mydir+ filelist[n], mydir+ (clean_merge['Manufacturer'][i] + clean_merge['Series'][i] + clean_merge['Color'][i] + \"FLAT\" + \".dng\"))\n",
    "            elif clean_merge['Texture RCCP'][i] == filelist[n]:\n",
    "                os.rename(mydir+ filelist[n], mydir+ (clean_merge['Manufacturer'][i] + clean_merge['Series'][i] + clean_merge['Color'][i] + \"TEXTURE\" + \".dng\"))"
   ]
  },
  {
   "cell_type": "code",
   "execution_count": null,
   "metadata": {},
   "outputs": [],
   "source": []
  }
 ],
 "metadata": {
  "kernelspec": {
   "display_name": "Python 3",
   "language": "python",
   "name": "python3"
  },
  "language_info": {
   "codemirror_mode": {
    "name": "ipython",
    "version": 3
   },
   "file_extension": ".py",
   "mimetype": "text/x-python",
   "name": "python",
   "nbconvert_exporter": "python",
   "pygments_lexer": "ipython3",
   "version": "3.7.6-final"
  }
 },
 "nbformat": 4,
 "nbformat_minor": 4
}